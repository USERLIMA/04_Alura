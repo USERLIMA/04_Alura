{
 "cells": [
  {
   "cell_type": "code",
   "execution_count": 1,
   "metadata": {},
   "outputs": [],
   "source": [
    "numero = 123\n",
    "titular = \"Nico\"\n",
    "saldo = 55.0\n",
    "limite = 1000.0"
   ]
  },
  {
   "cell_type": "code",
   "execution_count": 2,
   "metadata": {},
   "outputs": [],
   "source": [
    "conta = {\"numero\": 123}"
   ]
  },
  {
   "cell_type": "code",
   "execution_count": 3,
   "metadata": {},
   "outputs": [],
   "source": [
    "numero = 123\n",
    "titular = \"Nico\"\n",
    "saldo = 55.0\n",
    "limite = 1000.0\n",
    "conta = {\"numero\": 123, \"titular\": \"Nico\", \"saldo\": 55.0, \"limite\": 1000.0}\n"
   ]
  },
  {
   "cell_type": "code",
   "execution_count": 4,
   "metadata": {},
   "outputs": [],
   "source": [
    "numero = 123\n",
    "titular = \"Nico\"\n",
    "saldo = 55.0\n",
    "limite = 1000.0\n",
    "conta = {\"numero\": 123, \"titular\": \"Nico\", \"saldo\": 55.0, \"limite\": 1000.0}"
   ]
  },
  {
   "cell_type": "code",
   "execution_count": 5,
   "metadata": {},
   "outputs": [
    {
     "data": {
      "text/plain": [
       "123"
      ]
     },
     "execution_count": 5,
     "metadata": {},
     "output_type": "execute_result"
    }
   ],
   "source": [
    "conta[\"numero\"]"
   ]
  },
  {
   "cell_type": "code",
   "execution_count": 6,
   "metadata": {},
   "outputs": [
    {
     "data": {
      "text/plain": [
       "55.0"
      ]
     },
     "execution_count": 6,
     "metadata": {},
     "output_type": "execute_result"
    }
   ],
   "source": [
    "conta[\"saldo\"]"
   ]
  },
  {
   "cell_type": "code",
   "execution_count": 7,
   "metadata": {},
   "outputs": [],
   "source": [
    "conta2 = {\"numero\": 321, \"titular\": \"Marco\", \"saldo\": 100.0, \"limite\": 1000.0}"
   ]
  },
  {
   "cell_type": "code",
   "execution_count": 8,
   "metadata": {},
   "outputs": [],
   "source": [
    "# def cria_conta():\n",
    "#     conta2 = {\"numero\": 321, \"titular\": \"Marco\", \"saldo\": 100.0, \"limite\": 1000.0}\n"
   ]
  },
  {
   "cell_type": "code",
   "execution_count": 9,
   "metadata": {},
   "outputs": [],
   "source": [
    "def cria_conta(numero, titular, saldo, limite):\n",
    "   conta = {\"numero\": numero, \"titular\": titular, \"saldo\": saldo, \"limite\": limite}\n",
    "   return conta"
   ]
  },
  {
   "cell_type": "code",
   "execution_count": 10,
   "metadata": {},
   "outputs": [
    {
     "data": {
      "text/plain": [
       "{'numero': 123, 'titular': 'Nico', 'saldo': 55.34, 'limite': 1000.0}"
      ]
     },
     "execution_count": 10,
     "metadata": {},
     "output_type": "execute_result"
    }
   ],
   "source": [
    "cria_conta(123,\"Nico\",55.34, 1000.0)"
   ]
  },
  {
   "cell_type": "code",
   "execution_count": null,
   "metadata": {},
   "outputs": [],
   "source": [
    "class ContaBancaria:\n",
    "    def __init__(self, titular, saldo):\n",
    "        self.__titular = titular  # Atributo \"privado\"\n",
    "        self.__saldo = saldo      # Atributo \"privado\"\n",
    "\n",
    "    def depositar(self, valor):\n",
    "        if valor > 0:\n",
    "            self.__saldo += valor\n",
    "            print(f\"Depósito de {valor} realizado. Novo saldo: {self.__saldo}\")\n",
    "        else:\n",
    "            print(\"O valor do depósito deve ser positivo.\")\n",
    "\n",
    "    def sacar(self, valor):\n",
    "        if valor > 0 and valor <= self.__saldo:\n",
    "            self.__saldo -= valor\n",
    "            print(f\"Saque de {valor} realizado. Novo saldo: {self.__saldo}\")\n",
    "        else:\n",
    "            print(\"Valor inválido ou saldo insuficiente.\")\n",
    "\n",
    "    def get_saldo(self):\n",
    "        return self.__saldo\n",
    "\n",
    "    def __str__(self):\n",
    "        return f\"Titular: {self.__titular}, Saldo: {self.__saldo}\"\n",
    "\n",
    "\n",
    "# Criando uma instância da classe ContaBancaria\n",
    "conta = ContaBancaria(\"João\", 1000)\n",
    "\n",
    "# Tentando acessar o atributo \"privado\" diretamente (não é recomendado)\n",
    "print(conta.__saldo)  # Isso resultará em um AttributeError\n",
    "\n",
    "# Acessando o saldo usando o método get_saldo (boa prática)\n",
    "print(\"Saldo:\", conta.get_saldo())\n",
    "\n",
    "# Realizando operações na conta\n",
    "conta.depositar(500)\n",
    "conta.sacar(200)\n",
    "\n",
    "# Imprimindo informações da conta usando o método __str__\n",
    "print(conta)\n"
   ]
  }
 ],
 "metadata": {
  "kernelspec": {
   "display_name": "eEDB",
   "language": "python",
   "name": "python3"
  },
  "language_info": {
   "codemirror_mode": {
    "name": "ipython",
    "version": 3
   },
   "file_extension": ".py",
   "mimetype": "text/x-python",
   "name": "python",
   "nbconvert_exporter": "python",
   "pygments_lexer": "ipython3",
   "version": "3.11.4"
  },
  "orig_nbformat": 4
 },
 "nbformat": 4,
 "nbformat_minor": 2
}
